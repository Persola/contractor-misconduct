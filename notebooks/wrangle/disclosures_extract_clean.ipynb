{
 "cells": [
  {
   "cell_type": "code",
   "execution_count": 2,
   "metadata": {},
   "outputs": [],
   "source": [
    "from functools import reduce\n",
    "from collections import defaultdict\n",
    "import re\n",
    "from pathlib import Path\n",
    "\n",
    "import numpy as np\n",
    "import pandas as pd\n",
    "from bs4 import BeautifulSoup\n",
    "from bs4.element import Tag as BSTagType\n",
    "import pickle\n",
    "import matplotlib.pyplot as plt\n",
    "from datetime import datetime"
   ]
  },
  {
   "cell_type": "code",
   "execution_count": 3,
   "metadata": {},
   "outputs": [],
   "source": [
    "TRUNCATE_TO = 99\n",
    "DISCLOSURE_FILENAME_COL_NAME = 'disclosureId'\n",
    "RELEVANT_FIELDS = [\n",
    "    'organizationName',\n",
    "    'zip',\n",
    "    'registrantGeneralDescription',\n",
    "    'clientName',\n",
    "    'clientZip',\n",
    "    'clientGeneralDescription',\n",
    "    'specific_issues',\n",
    "    'reportYear',\n",
    "    'reportType',\n",
    "    'effectiveDate'\n",
    "]\n",
    "DATA_DIR = '../../data/'\n",
    "\n",
    "def find(condition, iterable):\n",
    "    for item in iterable:\n",
    "        if condition(item):\n",
    "            return item\n",
    "    return None\n",
    "\n",
    "def child_with_name(name, children):\n",
    "   return find(lambda child : child.name == name, children)\n",
    "\n",
    "def elements_among(iterable):\n",
    "    return [\n",
    "        child for child in iterable\n",
    "        if type(child) == BSTagType\n",
    "    ]\n",
    "\n",
    "def second_level_nodes(path):\n",
    "    with open(path) as f:\n",
    "        disclosure = BeautifulSoup(f, 'lxml-xml')\n",
    "\n",
    "    if len(list(disclosure.children)) == 0: # first element was XML doc declaration\n",
    "        with open(path) as f:\n",
    "            next(f) # so skip it\n",
    "            disclosure = BeautifulSoup(f, 'lxml-xml') # and use the second\n",
    "\n",
    "    if 'children' in dir(list(disclosure.children)[0]):\n",
    "        children = list(disclosure.children)[0].children\n",
    "    else: # has XML-stylesheet declaration element\n",
    "        children = list(disclosure.children)[1].children # skip it\n",
    "    \n",
    "    return elements_among(children)\n",
    "\n",
    "def row_from_path(path):\n",
    "    disclosure_children = second_level_nodes(path)\n",
    "    organization_name_node = child_with_name('organizationName', disclosure_children)\n",
    "    client_name_node = child_with_name('clientName', disclosure_children)\n",
    "    effective_date_node = child_with_name('effectiveDate', disclosure_children)\n",
    "    lobbyists_node = child_with_name('lobbyists', disclosure_children)\n",
    "    alis_node = child_with_name('alis', disclosure_children)\n",
    "\n",
    "#     print(type(next(alis_node.children)))\n",
    "\n",
    "    return {\n",
    "        'organization_name': organization_name_node and organization_name_node.text,\n",
    "        'client_name': client_name_node and client_name_node.text,\n",
    "        'effective_date': effective_date_node and effective_date_node.text,\n",
    "        'lobbyists': len(\n",
    "            [\n",
    "                lobbyist_node\n",
    "                for lobbyist_node\n",
    "                in ((lobbyists_node and lobbyists_node.children) or [])\n",
    "                if (\n",
    "                    type(lobbyist_node) == BSTagType\n",
    "                ) and (\n",
    "                    re.match('\\S', lobbyist_node.lobbyistFirstName.text) and\n",
    "                    re.match('\\S', lobbyist_node.lobbyistLastName.text)\n",
    "                )\n",
    "            ]\n",
    "        ),\n",
    "        'alis': ','.join([\n",
    "            ali_node.text\n",
    "            for ali_node\n",
    "            in elements_among((alis_node and alis_node.children) or [])\n",
    "            if not re.match('^\\s*$', ali_node.text)\n",
    "        ])\n",
    "        \n",
    "    }\n",
    "re.match\n",
    "def collect_fields(paths):\n",
    "    fields = set([DISCLOSURE_FILENAME_COL_NAME])\n",
    "    for path in paths:\n",
    "        for field in row_from_path(path).keys():\n",
    "            fields.add(field)\n",
    "    return fields\n",
    "\n",
    "def add_row(collection, fields, row, filename):\n",
    "    if not row:\n",
    "        print('NO DATA ROW')\n",
    "        return\n",
    "    for field in fields:\n",
    "        if field == DISCLOSURE_FILENAME_COL_NAME:\n",
    "            collection[field].append(filename)\n",
    "        elif field in row.keys():\n",
    "            collection[field].append(row[field])\n",
    "        else:\n",
    "            collection[field].append(None)\n",
    "\n",
    "def filename_from_path(path):\n",
    "    return re.search('\\/([^\\/]+)\\.xml$', str(path))[1] # filename without extension"
   ]
  },
  {
   "cell_type": "code",
   "execution_count": 40,
   "metadata": {},
   "outputs": [],
   "source": [
    "disclosure_subdirs = Path('../../data/lobbying_disclosures/').glob('*')\n",
    "disclosure_paths = reduce(\n",
    "    lambda collection, subdir : collection + list(Path(subdir).glob('*')),\n",
    "    disclosure_subdirs,\n",
    "    []\n",
    ")\n",
    "\n",
    "trunc_paths = disclosure_paths[:TRUNCATE_TO]\n",
    "\n",
    "# fields = collect_fields(trunc_paths)\n",
    "\n",
    "fields = [\n",
    "    DISCLOSURE_FILENAME_COL_NAME,\n",
    "    'organization_name',\n",
    "    'client_name',\n",
    "    'effective_date',\n",
    "    'lobbyists',\n",
    "    'alis'\n",
    "]\n",
    "\n",
    "disclosures_dict = {field: [] for field in fields}\n",
    "times = 0\n",
    "for path in trunc_paths:\n",
    "    if(times % 1000 == 0):\n",
    "        print(times)\n",
    "    times += 1\n",
    "    try:\n",
    "        add_row(\n",
    "            disclosures_dict,\n",
    "            fields,\n",
    "            row_from_path(path),\n",
    "            filename_from_path(path)\n",
    "        )\n",
    "    except:\n",
    "        print(f'error: {path}')\n"
   ]
  },
  {
   "cell_type": "code",
   "execution_count": 4,
   "metadata": {},
   "outputs": [],
   "source": [
    "disclosures = pd.DataFrame(disclosures_dict)\n",
    "disclosures = disclosures.set_index(DISCLOSURE_FILENAME_COL_NAME)"
   ]
  },
  {
   "cell_type": "code",
   "execution_count": 54,
   "metadata": {},
   "outputs": [],
   "source": [
    "# typo\n",
    "disclosures.effective_date = disclosures.effective_date.replace('03/031/2008', '03/31/2008')\n",
    "\n",
    "# cast\n",
    "disclosures.effective_date = pd.to_datetime(disclosures.effective_date)"
   ]
  },
  {
   "cell_type": "code",
   "execution_count": 85,
   "metadata": {},
   "outputs": [],
   "source": [
    "disclosures['client_name'] = disclosures['client_name'].str.strip()\n",
    "disclosures['organization_name'] = disclosures['organization_name'].str.strip()"
   ]
  },
  {
   "cell_type": "code",
   "execution_count": 112,
   "metadata": {},
   "outputs": [
    {
     "data": {
      "text/plain": [
       "Timestamp('2019-02-01 00:00:00')"
      ]
     },
     "execution_count": 112,
     "metadata": {},
     "output_type": "execute_result"
    }
   ],
   "source": [
    "disclosures.effective_date.max()"
   ]
  },
  {
   "cell_type": "code",
   "execution_count": 114,
   "metadata": {},
   "outputs": [
    {
     "data": {
      "text/plain": [
       "240"
      ]
     },
     "execution_count": 114,
     "metadata": {},
     "output_type": "execute_result"
    }
   ],
   "source": [
    "(20*12)"
   ]
  },
  {
   "cell_type": "code",
   "execution_count": 17,
   "metadata": {},
   "outputs": [
    {
     "data": {
      "image/png": "[encoded data removed]",
      "text/plain": [
       "<Figure size 432x288 with 1 Axes>"
      ]
     },
     "metadata": {
      "needs_background": "light"
     },
     "output_type": "display_data"
    }
   ],
   "source": [
    "plt.hist(\n",
    "    disclosures.effective_date,\n",
    "    bins=2688,\n",
    "    color='#301830'\n",
    ")\n",
    "plt.title('Effective Date');\n",
    "plt.axis(\n",
    "    xmin=datetime(2005, 1, 1),\n",
    "    xmax=datetime(2019, 1, 1),\n",
    "    ymin=0,\n",
    "    ymax=1600\n",
    ");"
   ]
  },
  {
   "cell_type": "code",
   "execution_count": 104,
   "metadata": {},
   "outputs": [],
   "source": [
    "# cull where client name missing\n",
    "disclosures = disclosures[ ~(\n",
    "    (disclosures.client_name.isnull()) |\n",
    "    (disclosures.organization_name.isnull()) | \n",
    "    (disclosures.organization_name == '') |\n",
    "    (disclosures.lobbyists == 0)\n",
    ")]"
   ]
  },
  {
   "cell_type": "code",
   "execution_count": 66,
   "metadata": {},
   "outputs": [
    {
     "data": {
      "image/png": "[encoded data removed]",
      "text/plain": [
       "<Figure size 432x288 with 1 Axes>"
      ]
     },
     "metadata": {
      "needs_background": "light"
     },
     "output_type": "display_data"
    }
   ],
   "source": [
    "plt.hist(\n",
    "    qa_rows.effective_date,\n",
    "    bins=40,\n",
    "    color='#301830',\n",
    "    range=[\n",
    "        datetime(2007, 1, 1),\n",
    "        datetime(2018, 1, 1)        \n",
    "    ]\n",
    ")\n",
    "plt.title('Erroneous Disclosures Left By Quality Assurers');\n"
   ]
  },
  {
   "cell_type": "code",
   "execution_count": 67,
   "metadata": {},
   "outputs": [],
   "source": [
    "# cull entries left in by QA\n",
    "disclosures = disclosures[~ disclosures.organization_name.str.contains('QA')]"
   ]
  },
  {
   "cell_type": "code",
   "execution_count": 85,
   "metadata": {},
   "outputs": [],
   "source": [
    "# junk entry\n",
    "disclosures = disclosures[ ~(\n",
    "    (disclosures.client_name == 'aaaddd') &\n",
    "    (disclosures.organization_name == 'aaa')\n",
    ")]"
   ]
  },
  {
   "cell_type": "code",
   "execution_count": 106,
   "metadata": {},
   "outputs": [],
   "source": [
    "with open(f'{DATA_DIR}disclosures.pkl', 'wb') as file:\n",
    "    pickle.dump(disclosures, file)"
   ]
  },
  {
   "cell_type": "code",
   "execution_count": 108,
   "metadata": {},
   "outputs": [],
   "source": [
    "with open(f'{DATA_DIR}disclosures.pkl', 'rb') as file:\n",
    "    disclosures = pickle.load(file)"
   ]
  },
  {
   "cell_type": "code",
   "execution_count": 109,
   "metadata": {},
   "outputs": [
    {
     "data": {
      "text/plain": [
       "70118"
      ]
     },
     "execution_count": 109,
     "metadata": {},
     "output_type": "execute_result"
    }
   ],
   "source": [
    "len(disclosures)"
   ]
  },
  {
   "cell_type": "code",
   "execution_count": null,
   "metadata": {},
   "outputs": [],
   "source": []
  }
 ],
 "metadata": {
  "kernelspec": {
   "display_name": "Python 3",
   "language": "python",
   "name": "python3"
  },
  "language_info": {
   "codemirror_mode": {
    "name": "ipython",
    "version": 3
   },
   "file_extension": ".py",
   "mimetype": "text/x-python",
   "name": "python",
   "nbconvert_exporter": "python",
   "pygments_lexer": "ipython3",
   "version": "3.7.0"
  }
 },
 "nbformat": 4,
 "nbformat_minor": 2
}
