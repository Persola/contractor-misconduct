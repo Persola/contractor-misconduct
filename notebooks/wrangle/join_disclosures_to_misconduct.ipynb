{
 "cells": [
  {
   "cell_type": "code",
   "execution_count": 1,
   "metadata": {},
   "outputs": [],
   "source": [
    "import re\n",
    "\n",
    "import pickle\n",
    "import numpy as np\n",
    "import pandas as pd\n",
    "import matplotlib.pyplot as plt"
   ]
  },
  {
   "cell_type": "code",
   "execution_count": 2,
   "metadata": {},
   "outputs": [],
   "source": [
    "DATA_DIR = '../../data/'\n",
    "\n",
    "with open(f'{DATA_DIR}disclosures.pkl', 'rb') as file:\n",
    "    disclosures = pickle.load(file)\n",
    "\n",
    "with open(f'{DATA_DIR}clean/misconduct_indicators_train.pkl', 'rb') as file:\n",
    "    misconduct_train = pickle.load(file)\n",
    "\n",
    "# with open(f'{DATA_DIR}clean/misconduct_test.pkl', 'rb') as file:\n",
    "#     disclosures = pickle.load(file)\n"
   ]
  },
  {
   "cell_type": "code",
   "execution_count": 3,
   "metadata": {},
   "outputs": [],
   "source": [
    "def normalize_company_name(name):\n",
    "    if not name:\n",
    "        return None\n",
    "    return re.sub('[^a-zA-Z]+', '', name).lower()\n"
   ]
  },
  {
   "cell_type": "code",
   "execution_count": 4,
   "metadata": {},
   "outputs": [],
   "source": [
    "disclosures['normal_organization_name'] = disclosures['organization_name'].apply(normalize_company_name)\n",
    "disclosures['normal_client_name'] = disclosures['client_name'].apply(normalize_company_name)\n",
    "misconduct_train['normal_contractor_s'] = misconduct_train['contractor_s'].apply(normalize_company_name)"
   ]
  },
  {
   "cell_type": "code",
   "execution_count": 5,
   "metadata": {},
   "outputs": [
    {
     "data": {
      "text/html": [
       "<div>\n",
       "<style scoped>\n",
       "    .dataframe tbody tr th:only-of-type {\n",
       "        vertical-align: middle;\n",
       "    }\n",
       "\n",
       "    .dataframe tbody tr th {\n",
       "        vertical-align: top;\n",
       "    }\n",
       "\n",
       "    .dataframe thead th {\n",
       "        text-align: right;\n",
       "    }\n",
       "</style>\n",
       "<table border=\"1\" class=\"dataframe\">\n",
       "  <thead>\n",
       "    <tr style=\"text-align: right;\">\n",
       "      <th></th>\n",
       "      <th>normal_organization_name</th>\n",
       "      <th>normal_client_name</th>\n",
       "      <th>lobbyists</th>\n",
       "    </tr>\n",
       "  </thead>\n",
       "  <tbody>\n",
       "    <tr>\n",
       "      <th>0</th>\n",
       "      <td>aanp</td>\n",
       "      <td>aanp</td>\n",
       "      <td>1.0</td>\n",
       "    </tr>\n",
       "    <tr>\n",
       "      <th>1</th>\n",
       "      <td>aarcorp</td>\n",
       "      <td>aarcorp</td>\n",
       "      <td>1.0</td>\n",
       "    </tr>\n",
       "    <tr>\n",
       "      <th>2</th>\n",
       "      <td>aaronlopez</td>\n",
       "      <td>mediscainc</td>\n",
       "      <td>1.0</td>\n",
       "    </tr>\n",
       "    <tr>\n",
       "      <th>3</th>\n",
       "      <td>aaronlopez</td>\n",
       "      <td>pinepharmaceuticals</td>\n",
       "      <td>1.0</td>\n",
       "    </tr>\n",
       "  </tbody>\n",
       "</table>\n",
       "</div>"
      ],
      "text/plain": [
       "  normal_organization_name   normal_client_name  lobbyists\n",
       "0                     aanp                 aanp        1.0\n",
       "1                  aarcorp              aarcorp        1.0\n",
       "2               aaronlopez           mediscainc        1.0\n",
       "3               aaronlopez  pinepharmaceuticals        1.0"
      ]
     },
     "execution_count": 5,
     "metadata": {},
     "output_type": "execute_result"
    }
   ],
   "source": [
    "lobbyists_per_clientage = (\n",
    "    disclosures\n",
    "    .groupby(['normal_organization_name', 'normal_client_name'])\n",
    "    .agg({'lobbyists': 'mean'})\n",
    ").reset_index()\n",
    "\n",
    "lobbyists_per_clientage[:4]"
   ]
  },
  {
   "cell_type": "code",
   "execution_count": 6,
   "metadata": {},
   "outputs": [],
   "source": [
    "lobbyist_features = (\n",
    "    lobbyists_per_clientage\n",
    "    .groupby('normal_client_name')\n",
    "    .agg({\n",
    "        'normal_organization_name': 'count',\n",
    "        'lobbyists': 'sum'\n",
    "    })\n",
    ")\n",
    "\n",
    "lobbyist_features.columns = ['lobbying_firms', 'lobbyists']\n",
    "lobbyist_features['has_lobbyist'] = True\n"
   ]
  },
  {
   "cell_type": "code",
   "execution_count": 7,
   "metadata": {},
   "outputs": [
    {
     "data": {
      "image/png": "[encoded data removed]",
      "text/plain": [
       "<Figure size 432x288 with 1 Axes>"
      ]
     },
     "metadata": {
      "needs_background": "light"
     },
     "output_type": "display_data"
    }
   ],
   "source": [
    "plt.hist(\n",
    "    lobbyist_features.lobbying_firms,\n",
    "    bins=80,\n",
    "    color='#301830',\n",
    ");"
   ]
  },
  {
   "cell_type": "code",
   "execution_count": 8,
   "metadata": {},
   "outputs": [
    {
     "data": {
      "text/plain": [
       "207"
      ]
     },
     "execution_count": 8,
     "metadata": {},
     "output_type": "execute_result"
    }
   ],
   "source": [
    "len(\n",
    "    misconduct_train.join(\n",
    "        lobbyist_features,\n",
    "        on='normal_contractor_s'\n",
    "    ).normal_contractor_s.unique()\n",
    ")"
   ]
  },
  {
   "cell_type": "code",
   "execution_count": 9,
   "metadata": {},
   "outputs": [],
   "source": [
    "misconduct_with_lobbying = misconduct_train.join(\n",
    "    lobbyist_features,\n",
    "    on='normal_contractor_s'\n",
    ")"
   ]
  },
  {
   "cell_type": "code",
   "execution_count": 10,
   "metadata": {},
   "outputs": [],
   "source": [
    "misconduct_with_lobbying.has_lobbyist = misconduct_with_lobbying.has_lobbyist.replace(np.nan, False)\n",
    "misconduct_with_lobbying.lobbying_firms = misconduct_with_lobbying.lobbying_firms.replace(np.nan, 0).astype(int)\n",
    "misconduct_with_lobbying.lobbyists = misconduct_with_lobbying.lobbyists.replace(np.nan, 0)\n"
   ]
  },
  {
   "cell_type": "code",
   "execution_count": 19,
   "metadata": {},
   "outputs": [
    {
     "data": {
      "text/html": [
       "<div>\n",
       "<style scoped>\n",
       "    .dataframe tbody tr th:only-of-type {\n",
       "        vertical-align: middle;\n",
       "    }\n",
       "\n",
       "    .dataframe tbody tr th {\n",
       "        vertical-align: top;\n",
       "    }\n",
       "\n",
       "    .dataframe thead th {\n",
       "        text-align: right;\n",
       "    }\n",
       "</style>\n",
       "<table border=\"1\" class=\"dataframe\">\n",
       "  <thead>\n",
       "    <tr style=\"text-align: right;\">\n",
       "      <th></th>\n",
       "      <th>instance</th>\n",
       "      <th>lobbying_firms</th>\n",
       "      <th>lobbyists</th>\n",
       "      <th>has_lobbyist</th>\n",
       "    </tr>\n",
       "  </thead>\n",
       "  <tbody>\n",
       "    <tr>\n",
       "      <th>740</th>\n",
       "      <td>Leavenworth Detention Center Contract Audit</td>\n",
       "      <td>7</td>\n",
       "      <td>47.0</td>\n",
       "      <td>True</td>\n",
       "    </tr>\n",
       "    <tr>\n",
       "      <th>854</th>\n",
       "      <td>Clean Air Act Violations at XTO Energy's Fort ...</td>\n",
       "      <td>5</td>\n",
       "      <td>30.0</td>\n",
       "      <td>True</td>\n",
       "    </tr>\n",
       "    <tr>\n",
       "      <th>1569</th>\n",
       "      <td>Inadequate Number of Anesthesiologists in Texas</td>\n",
       "      <td>2</td>\n",
       "      <td>14.0</td>\n",
       "      <td>True</td>\n",
       "    </tr>\n",
       "    <tr>\n",
       "      <th>1616</th>\n",
       "      <td>Safety Violation at Derby Facility</td>\n",
       "      <td>0</td>\n",
       "      <td>0.0</td>\n",
       "      <td>False</td>\n",
       "    </tr>\n",
       "    <tr>\n",
       "      <th>1639</th>\n",
       "      <td>Evolved Expendable Launch Vehicle Program Qual...</td>\n",
       "      <td>0</td>\n",
       "      <td>0.0</td>\n",
       "      <td>False</td>\n",
       "    </tr>\n",
       "    <tr>\n",
       "      <th>2217</th>\n",
       "      <td>Rigging Bids on Department of Defense Fuel Sup...</td>\n",
       "      <td>0</td>\n",
       "      <td>0.0</td>\n",
       "      <td>False</td>\n",
       "    </tr>\n",
       "  </tbody>\n",
       "</table>\n",
       "</div>"
      ],
      "text/plain": [
       "                                               instance  lobbying_firms  \\\n",
       "740         Leavenworth Detention Center Contract Audit               7   \n",
       "854   Clean Air Act Violations at XTO Energy's Fort ...               5   \n",
       "1569    Inadequate Number of Anesthesiologists in Texas               2   \n",
       "1616                 Safety Violation at Derby Facility               0   \n",
       "1639  Evolved Expendable Launch Vehicle Program Qual...               0   \n",
       "2217  Rigging Bids on Department of Defense Fuel Sup...               0   \n",
       "\n",
       "      lobbyists  has_lobbyist  \n",
       "740        47.0          True  \n",
       "854        30.0          True  \n",
       "1569       14.0          True  \n",
       "1616        0.0         False  \n",
       "1639        0.0         False  \n",
       "2217        0.0         False  "
      ]
     },
     "execution_count": 19,
     "metadata": {},
     "output_type": "execute_result"
    }
   ],
   "source": [
    "# misconduct_with_lobbying\n",
    "\n",
    "misconduct_with_lobbying.loc[\n",
    "    [\n",
    "        740,\n",
    "        854,\n",
    "        1569,\n",
    "        1616,\n",
    "        1639,\n",
    "        2217\n",
    "    ],\n",
    "    [\n",
    "        'instance',\n",
    "        'lobbying_firms',\n",
    "        'lobbyists',\n",
    "        'has_lobbyist'\n",
    "    ]\n",
    "]"
   ]
  },
  {
   "cell_type": "code",
   "execution_count": null,
   "metadata": {},
   "outputs": [],
   "source": [
    "# lobbyist rows correct at this point (before transforming to Bernoulli)"
   ]
  },
  {
   "cell_type": "code",
   "execution_count": null,
   "metadata": {},
   "outputs": [],
   "source": [
    "misconduct_with_lobbying.has_lobbyist = misconduct_with_lobbying.has_lobbyist.replace(np.nan, False).astype(int)"
   ]
  },
  {
   "cell_type": "code",
   "execution_count": null,
   "metadata": {},
   "outputs": [],
   "source": [
    "with open(f'{DATA_DIR}clean/misconduct_lobbying_indicators_train.pkl', 'wb') as file:\n",
    "    pickle.dump(misconduct_with_lobbying, file)"
   ]
  },
  {
   "cell_type": "code",
   "execution_count": null,
   "metadata": {},
   "outputs": [],
   "source": []
  }
 ],
 "metadata": {
  "kernelspec": {
   "display_name": "Python 3",
   "language": "python",
   "name": "python3"
  },
  "language_info": {
   "codemirror_mode": {
    "name": "ipython",
    "version": 3
   },
   "file_extension": ".py",
   "mimetype": "text/x-python",
   "name": "python",
   "nbconvert_exporter": "python",
   "pygments_lexer": "ipython3",
   "version": "3.7.0"
  }
 },
 "nbformat": 4,
 "nbformat_minor": 2
}
