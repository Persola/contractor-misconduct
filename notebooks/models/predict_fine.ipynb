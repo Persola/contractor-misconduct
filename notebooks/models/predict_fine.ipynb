{
 "cells": [
  {
   "cell_type": "code",
   "execution_count": 1,
   "metadata": {},
   "outputs": [],
   "source": [
    "import re\n",
    "\n",
    "import pickle\n",
    "import numpy as np\n",
    "import pandas as pd\n",
    "from sklearn.model_selection import train_test_split, cross_val_score\n",
    "from sklearn.linear_model import LinearRegression\n",
    "# from sklearn.neighbors import KNeighborsClassifier\n",
    "# from sklearn.naive_bayes import BernoulliNB, GaussianNB, MultinomialNB\n",
    "# from sklearn.linear_model import LogisticRegression\n",
    "# from sklearn.svm import SVC\n",
    "# from sklearn.tree import DecisionTreeClassifier\n",
    "# from sklearn.ensemble import RandomForestClassifier\n",
    "import matplotlib.pyplot as plt"
   ]
  },
  {
   "cell_type": "code",
   "execution_count": 2,
   "metadata": {},
   "outputs": [],
   "source": [
    "with open('../../data/clean/misconduct_indicators_train.pkl', 'rb') as train_file:\n",
    "    misconduct = pickle.load(train_file)"
   ]
  },
  {
   "cell_type": "code",
   "execution_count": 5,
   "metadata": {},
   "outputs": [],
   "source": [
    "indicated_cols = [\n",
    "    'misconduct_type',\n",
    "    'court_type',\n",
    "    'enforcement_agency',\n",
    "    'contracting_party'\n",
    "]\n",
    "\n",
    "indicator_features = [\n",
    "    col for col in misconduct.columns\n",
    "    if re.search(f'^({\"|\".join(indicated_cols)})_', col)\n",
    "]\n",
    "\n",
    "misconduct = misconduct[[*indicator_features, 'total_penalties']]\n",
    "misconduct = misconduct[~ pd.isnull(misconduct.total_penalties)]"
   ]
  },
  {
   "cell_type": "code",
   "execution_count": 27,
   "metadata": {},
   "outputs": [
    {
     "data": {
      "text/plain": [
       "(1784, 107)"
      ]
     },
     "execution_count": 27,
     "metadata": {},
     "output_type": "execute_result"
    }
   ],
   "source": [
    "train, test = train_test_split(misconduct, test_size=0.2, random_state=13)\n",
    "\n",
    "lr = LinearRegression()\n",
    "lr.fit(\n",
    "    train.loc[:, indicator_features],\n",
    "    train['total_penalties']\n",
    ")\n",
    "lr.score(\n",
    "    test.loc[:, indicator_features],\n",
    "    test['total_penalties']\n",
    ")\n",
    "\n",
    "misconduct.shape"
   ]
  },
  {
   "cell_type": "code",
   "execution_count": 6,
   "metadata": {},
   "outputs": [],
   "source": [
    "def cv_mean(model):\n",
    "    return np.mean(\n",
    "        cross_val_score(\n",
    "            model,\n",
    "            misconduct.loc[:, indicator_features],\n",
    "            misconduct['total_penalties'],\n",
    "            cv=3 # limited by class imbalance\n",
    "        )\n",
    "    )"
   ]
  },
  {
   "cell_type": "code",
   "execution_count": 7,
   "metadata": {},
   "outputs": [],
   "source": [
    "model_cv_score = {}"
   ]
  },
  {
   "cell_type": "code",
   "execution_count": 14,
   "metadata": {},
   "outputs": [
    {
     "data": {
      "text/plain": [
       "-1.3037103347599972e+23"
      ]
     },
     "execution_count": 14,
     "metadata": {},
     "output_type": "execute_result"
    }
   ],
   "source": [
    "model_cv_score['logistic_regression'] = cv_mean(\n",
    "    LinearRegression()\n",
    ")\n",
    "\n",
    "NEXT: select features with random forest weighs (Chelan)"
   ]
  },
  {
   "cell_type": "code",
   "execution_count": 9,
   "metadata": {},
   "outputs": [],
   "source": [
    "# model_cv_score['svc_linear'] = cv_mean(\n",
    "#     SVC(kernel='linear')\n",
    "# )"
   ]
  },
  {
   "cell_type": "code",
   "execution_count": 10,
   "metadata": {},
   "outputs": [],
   "source": [
    "# model_cv_score['lone_decision_tree'] = cv_mean(\n",
    "#     DecisionTreeClassifier()\n",
    "# )"
   ]
  },
  {
   "cell_type": "code",
   "execution_count": 11,
   "metadata": {},
   "outputs": [],
   "source": [
    "# model_cv_score['random_forest'] = cv_mean(\n",
    "#     RandomForestClassifier(\n",
    "#         n_estimators=76, # entropy more uniform, gini needed at least ~60\n",
    "#         max_depth=16, # too high? but cross avalidation works\n",
    "#         criterion='entropy', # mot much difference\n",
    "#         random_state=62\n",
    "#     )\n",
    "# )"
   ]
  },
  {
   "cell_type": "code",
   "execution_count": 13,
   "metadata": {},
   "outputs": [
    {
     "data": {
      "image/png": "[encoded data removed]",
      "text/plain": [
       "<Figure size 432x288 with 1 Axes>"
      ]
     },
     "metadata": {
      "needs_background": "light"
     },
     "output_type": "display_data"
    }
   ],
   "source": [
    "names = list(model_cv_score.keys())\n",
    "scores = list(model_cv_score.values())\n",
    "\n",
    "plt.scatter(\n",
    "    names,\n",
    "    scores,\n",
    "    color='#000000'\n",
    ")\n",
    "\n",
    "plt.xticks([], rotation='vertical')\n",
    "for ind, name in enumerate(names):\n",
    "    plt.annotate(f'  {name}', (names[ind], scores[ind]), rotation=9)\n"
   ]
  },
  {
   "cell_type": "code",
   "execution_count": null,
   "metadata": {},
   "outputs": [],
   "source": []
  }
 ],
 "metadata": {
  "kernelspec": {
   "display_name": "Python 3",
   "language": "python",
   "name": "python3"
  },
  "language_info": {
   "codemirror_mode": {
    "name": "ipython",
    "version": 3
   },
   "file_extension": ".py",
   "mimetype": "text/x-python",
   "name": "python",
   "nbconvert_exporter": "python",
   "pygments_lexer": "ipython3",
   "version": "3.7.0"
  }
 },
 "nbformat": 4,
 "nbformat_minor": 2
}
