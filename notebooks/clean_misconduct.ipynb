{
 "cells": [
  {
   "cell_type": "code",
   "execution_count": 1,
   "metadata": {},
   "outputs": [],
   "source": [
    "from collections import Counter\n",
    "import re\n",
    "import datetime\n",
    "import os\n",
    "\n",
    "import pandas as pd\n",
    "import pickle\n",
    "import matplotlib.pyplot as plt\n",
    "import numpy as np\n",
    "from sklearn.model_selection import train_test_split"
   ]
  },
  {
   "cell_type": "code",
   "execution_count": 2,
   "metadata": {},
   "outputs": [],
   "source": [
    "TRAIN_OUTPUT_FILENAME = 'misconduct_train.pkl'\n",
    "TEST_OUTPUT_FILENAME = 'misconduct_test.pkl'"
   ]
  },
  {
   "cell_type": "code",
   "execution_count": 3,
   "metadata": {},
   "outputs": [],
   "source": [
    "def normalize_column_name(string):\n",
    "    return re.sub('\\s', '_', string).lower()"
   ]
  },
  {
   "cell_type": "code",
   "execution_count": 4,
   "metadata": {},
   "outputs": [],
   "source": [
    "misconduct = pd.read_csv('data/contractor_misconduct.csv')"
   ]
  },
  {
   "cell_type": "code",
   "execution_count": 5,
   "metadata": {},
   "outputs": [],
   "source": [
    "# standardize column names\n",
    "misconduct['Contractor_s'] = misconduct['Contractor(s)']\n",
    "misconduct = misconduct.drop('Contractor(s)', axis=1)\n",
    "\n",
    "misconduct.columns = [normalize_column_name(col) for col in misconduct.columns]"
   ]
  },
  {
   "cell_type": "code",
   "execution_count": 6,
   "metadata": {},
   "outputs": [],
   "source": [
    "# restore improperly parsed values\n",
    "misconduct['court_type'] = misconduct['court_type'].replace(np.nan, 'N/A')\n",
    "# but clear these\n",
    "misconduct['court_type'] = misconduct['court_type'].replace('Undisclosed/unknown', np.nan)\n",
    "misconduct['total_penalties'] = misconduct['total_penalties'].replace(\n",
    "    'Undisclosed/Unknown',\n",
    "    np.nan\n",
    ")\n",
    "# (note capitalization discrepency)"
   ]
  },
  {
   "cell_type": "code",
   "execution_count": 7,
   "metadata": {},
   "outputs": [],
   "source": [
    "# casting\n",
    "misconduct.loc[:, 'total_penalties'] = misconduct.loc[:, 'total_penalties'].astype(float)\n",
    "misconduct.loc[:, 'date'] = pd.to_datetime(\n",
    "    misconduct.loc[:, 'date'],\n",
    "    format='%m/%d/%Y'\n",
    ")"
   ]
  },
  {
   "cell_type": "code",
   "execution_count": 8,
   "metadata": {},
   "outputs": [],
   "source": [
    "# add indicator variables\n",
    "cols_to_dummyize = [\n",
    "    'misconduct_type',\n",
    "    'court_type',\n",
    "    'enforcement_agency',\n",
    "    'contracting_party'\n",
    "]\n",
    "\n",
    "for col_name in cols_to_dummyize:\n",
    "    misconduct = pd.concat(\n",
    "        [\n",
    "            misconduct,\n",
    "            pd.get_dummies(\n",
    "                misconduct[col_name],\n",
    "                prefix=col_name\n",
    "            )\n",
    "        ],\n",
    "        axis=1\n",
    "    )\n",
    "\n",
    "misconduct = misconduct.drop(cols_to_dummyize, axis=1)\n",
    "misconduct.columns = [\n",
    "    normalize_column_name(col)\n",
    "    for col\n",
    "    in misconduct.columns\n",
    "]"
   ]
  },
  {
   "cell_type": "code",
   "execution_count": 9,
   "metadata": {},
   "outputs": [],
   "source": [
    "misconduct_train, misconduct_test = train_test_split(\n",
    "    misconduct,\n",
    "    test_size=0.2,\n",
    "    random_state=83\n",
    ")"
   ]
  },
  {
   "cell_type": "code",
   "execution_count": 10,
   "metadata": {},
   "outputs": [],
   "source": [
    "os.system(f'touch {TRAIN_OUTPUT_FILENAME}')\n",
    "with open(TRAIN_OUTPUT_FILENAME, 'wb') as train_file:\n",
    "    pickle.dump(misconduct_train, train_file)\n",
    "\n",
    "os.system(f'touch {TEST_OUTPUT_FILENAME}')\n",
    "with open(TEST_OUTPUT_FILENAME, 'wb') as test_file:\n",
    "    pickle.dump(misconduct_test, test_file)"
   ]
  },
  {
   "cell_type": "code",
   "execution_count": null,
   "metadata": {},
   "outputs": [],
   "source": []
  }
 ],
 "metadata": {
  "kernelspec": {
   "display_name": "Python 3",
   "language": "python",
   "name": "python3"
  },
  "language_info": {
   "codemirror_mode": {
    "name": "ipython",
    "version": 3
   },
   "file_extension": ".py",
   "mimetype": "text/x-python",
   "name": "python",
   "nbconvert_exporter": "python",
   "pygments_lexer": "ipython3",
   "version": "3.7.0"
  }
 },
 "nbformat": 4,
 "nbformat_minor": 2
}
