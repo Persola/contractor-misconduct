{
 "cells": [
  {
   "cell_type": "code",
   "execution_count": 23,
   "metadata": {},
   "outputs": [],
   "source": [
    "import re\n",
    "\n",
    "import pickle\n",
    "import numpy as np\n",
    "import pandas as pd\n",
    "from sklearn.model_selection import train_test_split, cross_val_score\n",
    "from sklearn.neighbors import KNeighborsClassifier\n",
    "from sklearn.naive_bayes import BernoulliNB, GaussianNB, MultinomialNB\n",
    "from sklearn.linear_model import LogisticRegression\n",
    "from sklearn.svm import SVC\n",
    "from sklearn.tree import DecisionTreeClassifier\n",
    "from sklearn.ensemble import RandomForestClassifier\n",
    "from sklearn.manifold import TSNE\n",
    "from catboost import CatBoostClassifier, Pool\n",
    "import matplotlib.pyplot as plt\n",
    "from IPython.core.display import display, HTML"
   ]
  },
  {
   "cell_type": "code",
   "execution_count": 24,
   "metadata": {},
   "outputs": [],
   "source": [
    "lobbyist_filename = '../../data/clean/misconduct_lobbying_indicators_train.pkl'\n",
    "normal_filename = '../../data/clean/misconduct_indicators_train.pkl'\n",
    "\n",
    "with open(lobbyist_filename, 'rb') as train_file:\n",
    "    misconduct = pickle.load(train_file)"
   ]
  },
  {
   "cell_type": "code",
   "execution_count": 25,
   "metadata": {},
   "outputs": [],
   "source": [
    "indicated_cols = [\n",
    "    'misconduct_type',\n",
    "    'court_type',\n",
    "    'enforcement_agency',\n",
    "    'contracting_party'\n",
    "]\n",
    "\n",
    "indicator_features = [\n",
    "    col for col in misconduct.columns\n",
    "    if re.search(f'^({\"|\".join(indicated_cols)})_', col)\n",
    "]\n",
    "\n",
    "features = indicator_features + [\n",
    "    'lobbying_firms',\n",
    "    'lobbyists',\n",
    "    'has_lobbyist'\n",
    "]\n",
    "\n",
    "design_matrix = misconduct[[*features]]\n",
    "design_matrix = pd.concat(\n",
    "    [\n",
    "        design_matrix,\n",
    "        pd.get_dummies(\n",
    "            misconduct['disposition_type'],\n",
    "            prefix='disposition_type'\n",
    "        )\n",
    "    ],\n",
    "    axis=1\n",
    ")"
   ]
  },
  {
   "cell_type": "code",
   "execution_count": 26,
   "metadata": {},
   "outputs": [
    {
     "data": {
      "text/plain": [
       "504"
      ]
     },
     "execution_count": 26,
     "metadata": {},
     "output_type": "execute_result"
    }
   ],
   "source": [
    "sum(\n",
    "    pd.isnull(misconduct['total_penalties']) |\n",
    "    misconduct['total_penalties'] == 0.0\n",
    ")"
   ]
  },
  {
   "cell_type": "code",
   "execution_count": 27,
   "metadata": {},
   "outputs": [],
   "source": [
    "def cv_mean(model):\n",
    "    return np.mean(\n",
    "        cross_val_score(\n",
    "            model,\n",
    "            misconduct.loc[:, features],\n",
    "            misconduct['disposition_type'],\n",
    "            cv=3 # limited by class imbalance\n",
    "        )\n",
    "    )"
   ]
  },
  {
   "cell_type": "code",
   "execution_count": 28,
   "metadata": {},
   "outputs": [],
   "source": [
    "model_cv_score = {}"
   ]
  },
  {
   "cell_type": "code",
   "execution_count": 7,
   "metadata": {},
   "outputs": [],
   "source": [
    "# n_neighbors\n",
    "#     accuracy peaked at ~10 and ~30\n",
    "#     ~30 barely lower and less variance in region\n",
    "# p not important because the features are binary\n",
    "model_cv_score['knn'] = cv_mean(\n",
    "    KNeighborsClassifier(p=1, weights='distance', n_neighbors=30)\n",
    ")"
   ]
  },
  {
   "cell_type": "code",
   "execution_count": 8,
   "metadata": {},
   "outputs": [],
   "source": [
    "model_cv_score['naive_bayes_bern'] = cv_mean(\n",
    "    BernoulliNB()\n",
    ")"
   ]
  },
  {
   "cell_type": "code",
   "execution_count": 9,
   "metadata": {},
   "outputs": [
    {
     "name": "stderr",
     "output_type": "stream",
     "text": [
      "/Users/lu/.pyenv/versions/3.7.0/lib/python3.7/site-packages/sklearn/linear_model/sag.py:334: ConvergenceWarning: The max_iter was reached which means the coef_ did not converge\n",
      "  \"the coef_ did not converge\", ConvergenceWarning)\n",
      "/Users/lu/.pyenv/versions/3.7.0/lib/python3.7/site-packages/sklearn/linear_model/sag.py:334: ConvergenceWarning: The max_iter was reached which means the coef_ did not converge\n",
      "  \"the coef_ did not converge\", ConvergenceWarning)\n",
      "/Users/lu/.pyenv/versions/3.7.0/lib/python3.7/site-packages/sklearn/linear_model/sag.py:334: ConvergenceWarning: The max_iter was reached which means the coef_ did not converge\n",
      "  \"the coef_ did not converge\", ConvergenceWarning)\n"
     ]
    }
   ],
   "source": [
    "model_cv_score['logistic_regression'] = cv_mean(\n",
    "    LogisticRegression(solver='sag', multi_class='auto')\n",
    ")"
   ]
  },
  {
   "cell_type": "code",
   "execution_count": 10,
   "metadata": {},
   "outputs": [],
   "source": [
    "model_cv_score['svc_linear'] = cv_mean(\n",
    "    SVC(kernel='linear')\n",
    ")"
   ]
  },
  {
   "cell_type": "code",
   "execution_count": 11,
   "metadata": {},
   "outputs": [],
   "source": [
    "model_cv_score['svc_rbf'] = cv_mean(\n",
    "    SVC(kernel='rbf', gamma='auto')\n",
    ")"
   ]
  },
  {
   "cell_type": "code",
   "execution_count": 12,
   "metadata": {},
   "outputs": [],
   "source": [
    "# model_cv_score['svc_poly'] = cv_mean(\n",
    "#     SVC(kernel='poly', gamma='auto')\n",
    "# )"
   ]
  },
  {
   "cell_type": "code",
   "execution_count": 13,
   "metadata": {},
   "outputs": [],
   "source": [
    "# model_cv_score['svc_sigmoid'] = cv_mean(\n",
    "#     SVC(kernel='sigmoid', gamma='auto')\n",
    "# )"
   ]
  },
  {
   "cell_type": "code",
   "execution_count": 18,
   "metadata": {},
   "outputs": [],
   "source": [
    "model_cv_score['lone_decision_tree'] = cv_mean(\n",
    "    DecisionTreeClassifier()\n",
    ")"
   ]
  },
  {
   "cell_type": "code",
   "execution_count": 19,
   "metadata": {},
   "outputs": [],
   "source": [
    "model_cv_score['random_forest'] = cv_mean(\n",
    "    RandomForestClassifier(\n",
    "        n_estimators=76, # entropy more uniform, gini needed at least ~60\n",
    "        max_depth=16, # too high? but cross validation works\n",
    "        criterion='entropy', # mot much difference\n",
    "        random_state=62\n",
    "    )\n",
    ")"
   ]
  },
  {
   "cell_type": "code",
   "execution_count": 30,
   "metadata": {},
   "outputs": [],
   "source": [
    "# model_cv_score['cat_boost'] = cv_mean(\n",
    "#     CatBoostClassifier(\n",
    "#         iterations=2,\n",
    "#         depth=2,\n",
    "#         learning_rate=1,\n",
    "#         loss_function='Logloss',\n",
    "#         logging_level='Verbose'\n",
    "#     )\n",
    "# )\n",
    "\n",
    "\n",
    "# model.fit(train_data, train_labels)\n",
    "# # make the prediction using the resulting model\n",
    "# preds_class = model.predict(test_data)\n",
    "# preds_proba = model.predict_proba(test_data)"
   ]
  },
  {
   "cell_type": "code",
   "execution_count": 20,
   "metadata": {},
   "outputs": [
    {
     "data": {
      "text/plain": [
       "{'knn': 0.5440355479633409,\n",
       " 'naive_bayes_bern': 0.5725154884564829,\n",
       " 'logistic_regression': 0.541173101307476,\n",
       " 'svc_linear': 0.6197508837364435,\n",
       " 'svc_rbf': 0.5151050377920682,\n",
       " 'lone_decision_tree': 0.5680404130143386,\n",
       " 'random_forest': 0.6292074978070495}"
      ]
     },
     "execution_count": 20,
     "metadata": {},
     "output_type": "execute_result"
    },
    {
     "data": {
      "image/png": "[encoded data removed]",
      "text/plain": [
       "<Figure size 432x288 with 1 Axes>"
      ]
     },
     "metadata": {
      "needs_background": "light"
     },
     "output_type": "display_data"
    }
   ],
   "source": [
    "names = list(model_cv_score.keys())\n",
    "scores = list(model_cv_score.values())\n",
    "\n",
    "plt.scatter(\n",
    "    names,\n",
    "    scores,\n",
    "    color='#000000'\n",
    ")\n",
    "\n",
    "plt.xticks([], rotation='vertical')\n",
    "for ind, name in enumerate(names):\n",
    "    plt.annotate(f'  {name}', (names[ind], scores[ind]), rotation=9)\n",
    "\n",
    "model_cv_score"
   ]
  },
  {
   "cell_type": "code",
   "execution_count": 21,
   "metadata": {},
   "outputs": [
    {
     "data": {
      "text/plain": [
       "{'knn': 0.5440355479633409,\n",
       " 'naive_bayes_bern': 0.5725154884564829,\n",
       " 'logistic_regression': 0.541173101307476,\n",
       " 'svc_linear': 0.6197508837364435,\n",
       " 'svc_rbf': 0.5151050377920682,\n",
       " 'lone_decision_tree': 0.5680404130143386,\n",
       " 'random_forest': 0.6292074978070495}"
      ]
     },
     "execution_count": 21,
     "metadata": {},
     "output_type": "execute_result"
    }
   ],
   "source": [
    "model_cv_score"
   ]
  },
  {
   "cell_type": "code",
   "execution_count": null,
   "metadata": {},
   "outputs": [],
   "source": []
  }
 ],
 "metadata": {
  "kernelspec": {
   "display_name": "Python 3",
   "language": "python",
   "name": "python3"
  },
  "language_info": {
   "codemirror_mode": {
    "name": "ipython",
    "version": 3
   },
   "file_extension": ".py",
   "mimetype": "text/x-python",
   "name": "python",
   "nbconvert_exporter": "python",
   "pygments_lexer": "ipython3",
   "version": "3.7.0"
  }
 },
 "nbformat": 4,
 "nbformat_minor": 2
}
