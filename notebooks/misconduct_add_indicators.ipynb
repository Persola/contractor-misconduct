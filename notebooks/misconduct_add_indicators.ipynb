{
 "cells": [
  {
   "cell_type": "code",
   "execution_count": 1,
   "metadata": {},
   "outputs": [],
   "source": [
    "import re\n",
    "import os\n",
    "\n",
    "import pandas as pd\n",
    "import pickle"
   ]
  },
  {
   "cell_type": "code",
   "execution_count": 2,
   "metadata": {},
   "outputs": [],
   "source": [
    "BASE_DIR = '../data/clean/'\n",
    "\n",
    "TRAIN_INPUT_FILENAME = f'{BASE_DIR}misconduct_train.pkl'\n",
    "TEST_INPUT_FILENAME = f'{BASE_DIR}misconduct_test.pkl'\n",
    "TRAIN_OUTPUT_FILENAME = f'{BASE_DIR}misconduct_indicators_train.pkl'\n",
    "TEST_OUTPUT_FILENAME = f'{BASE_DIR}misconduct_indicators_test.pkl'"
   ]
  },
  {
   "cell_type": "code",
   "execution_count": 3,
   "metadata": {},
   "outputs": [],
   "source": [
    "def normalize_column_name(string):\n",
    "    return re.sub('\\s', '_', string).lower()"
   ]
  },
  {
   "cell_type": "code",
   "execution_count": 4,
   "metadata": {},
   "outputs": [],
   "source": [
    "def add_indicators(input_filename, output_filename):\n",
    "    with open(input_filename, 'rb') as input_file:\n",
    "        misconduct = pickle.load(input_file)\n",
    "\n",
    "    cols_to_indicate = [\n",
    "        'misconduct_type',\n",
    "        'court_type',\n",
    "        'enforcement_agency',\n",
    "        'contracting_party'\n",
    "    ]\n",
    "\n",
    "    for col_name in cols_to_indicate:\n",
    "        misconduct = pd.concat(\n",
    "            [\n",
    "                misconduct,\n",
    "                pd.get_dummies(\n",
    "                    misconduct[col_name],\n",
    "                    prefix=col_name\n",
    "                )\n",
    "            ],\n",
    "            axis=1\n",
    "        )\n",
    "\n",
    "    misconduct = misconduct.drop(cols_to_indicate, axis=1)\n",
    "    misconduct.columns = [\n",
    "        normalize_column_name(col)\n",
    "        for col\n",
    "        in misconduct.columns\n",
    "    ]\n",
    "    \n",
    "    os.system(f'touch {output_filename}')\n",
    "    with open(output_filename, 'wb') as output_file:\n",
    "        pickle.dump(misconduct, output_file)"
   ]
  },
  {
   "cell_type": "code",
   "execution_count": 5,
   "metadata": {},
   "outputs": [],
   "source": [
    "add_indicators(TRAIN_INPUT_FILENAME, TRAIN_OUTPUT_FILENAME)\n",
    "add_indicators(TEST_INPUT_FILENAME, TEST_OUTPUT_FILENAME)"
   ]
  },
  {
   "cell_type": "code",
   "execution_count": null,
   "metadata": {},
   "outputs": [],
   "source": []
  }
 ],
 "metadata": {
  "kernelspec": {
   "display_name": "Python 3",
   "language": "python",
   "name": "python3"
  },
  "language_info": {
   "codemirror_mode": {
    "name": "ipython",
    "version": 3
   },
   "file_extension": ".py",
   "mimetype": "text/x-python",
   "name": "python",
   "nbconvert_exporter": "python",
   "pygments_lexer": "ipython3",
   "version": "3.7.0"
  }
 },
 "nbformat": 4,
 "nbformat_minor": 2
}
