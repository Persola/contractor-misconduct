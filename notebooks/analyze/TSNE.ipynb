{
 "cells": [
  {
   "cell_type": "code",
   "execution_count": 1,
   "metadata": {},
   "outputs": [],
   "source": [
    "import re\n",
    "\n",
    "from IPython.core.display import display, HTML\n",
    "\n",
    "import pickle\n",
    "import numpy as np\n",
    "import pandas as pd\n",
    "from sklearn.manifold import TSNE\n",
    "import matplotlib.pyplot as plt\n",
    "\n",
    "from PIL import Image\n",
    "import PIL.ImageOps"
   ]
  },
  {
   "cell_type": "code",
   "execution_count": 2,
   "metadata": {},
   "outputs": [],
   "source": [
    "with open('../../data/clean/misconduct_train.pkl', 'rb') as train_file:\n",
    "    unindicated_misconduct = pickle.load(train_file)\n",
    "\n",
    "with open('../../data/clean/misconduct_indicators_train.pkl', 'rb') as train_file:\n",
    "    misconduct = pickle.load(train_file)"
   ]
  },
  {
   "cell_type": "code",
   "execution_count": 3,
   "metadata": {},
   "outputs": [],
   "source": [
    "indicated_cols = [\n",
    "    'misconduct_type',\n",
    "    'court_type',\n",
    "    'enforcement_agency',\n",
    "    'contracting_party'\n",
    "]\n",
    "\n",
    "indicator_features = [\n",
    "    col for col in misconduct.columns\n",
    "    if re.search(f'^({\"|\".join(indicated_cols)})_', col)\n",
    "]\n",
    "\n",
    "design_matrix = misconduct[[*indicator_features]]\n",
    "design_matrix = pd.concat(\n",
    "    [\n",
    "        design_matrix,\n",
    "        pd.get_dummies(\n",
    "            misconduct['disposition_type'],\n",
    "            prefix='disposition_type'\n",
    "        )\n",
    "    ],\n",
    "    axis=1\n",
    ")"
   ]
  },
  {
   "cell_type": "code",
   "execution_count": 4,
   "metadata": {},
   "outputs": [],
   "source": [
    "reduced = TSNE(n_components=2).fit_transform(design_matrix)"
   ]
  },
  {
   "cell_type": "code",
   "execution_count": 5,
   "metadata": {},
   "outputs": [],
   "source": [
    "klass_to_color = {\n",
    "    'Judgment Against Defendant': '#404040',\n",
    "    'Settlement': '#804000',\n",
    "    'Fine': '#008040',\n",
    "    'Pending': '#400080',\n",
    "    'Investigative Finding': '#408000',\n",
    "    'Suspend/Debar - Employee': '#004080',\n",
    "    'Pleaded Guilty': '#800040',\n",
    "    'Administrative Agreement': '#606000',\n",
    "    'Non-Prosecution Agreement': '#006060',\n",
    "    'Restitution': '#600060',\n",
    "    'Suspend/Debar - Company': '#c00000',\n",
    "    'Found Guilty': '#00c000',\n",
    "    'Deferred Prosecution Agreement': '#0000c0'\n",
    "}"
   ]
  },
  {
   "cell_type": "code",
   "execution_count": 6,
   "metadata": {},
   "outputs": [
    {
     "data": {
      "text/html": [
       "<div style=\"font-size: 10px; color: #ffffff; height: 16px; width: 200px; background-color: #404040; position: inline\">Judgment Against Defendant</div><div style=\"font-size: 10px; color: #ffffff; height: 16px; width: 200px; background-color: #804000; position: inline\">Settlement</div><div style=\"font-size: 10px; color: #ffffff; height: 16px; width: 200px; background-color: #008040; position: inline\">Fine</div><div style=\"font-size: 10px; color: #ffffff; height: 16px; width: 200px; background-color: #400080; position: inline\">Pending</div><div style=\"font-size: 10px; color: #ffffff; height: 16px; width: 200px; background-color: #408000; position: inline\">Investigative Finding</div><div style=\"font-size: 10px; color: #ffffff; height: 16px; width: 200px; background-color: #004080; position: inline\">Suspend/Debar - Employee</div><div style=\"font-size: 10px; color: #ffffff; height: 16px; width: 200px; background-color: #800040; position: inline\">Pleaded Guilty</div><div style=\"font-size: 10px; color: #ffffff; height: 16px; width: 200px; background-color: #606000; position: inline\">Administrative Agreement</div><div style=\"font-size: 10px; color: #ffffff; height: 16px; width: 200px; background-color: #006060; position: inline\">Non-Prosecution Agreement</div><div style=\"font-size: 10px; color: #ffffff; height: 16px; width: 200px; background-color: #600060; position: inline\">Restitution</div><div style=\"font-size: 10px; color: #ffffff; height: 16px; width: 200px; background-color: #c00000; position: inline\">Suspend/Debar - Company</div><div style=\"font-size: 10px; color: #ffffff; height: 16px; width: 200px; background-color: #00c000; position: inline\">Found Guilty</div><div style=\"font-size: 10px; color: #ffffff; height: 16px; width: 200px; background-color: #0000c0; position: inline\">Deferred Prosecution Agreement</div>"
      ],
      "text/plain": [
       "<IPython.core.display.HTML object>"
      ]
     },
     "metadata": {},
     "output_type": "display_data"
    }
   ],
   "source": [
    "# (trouble with plot labels, so...)\n",
    "\n",
    "display(HTML(\n",
    "    ''.join([\n",
    "        f'<div style=\"font-size: 10px; color: #ffffff; height: 16px; width: 200px; background-color: {klass_to_color[klass]}; position: inline\">{klass}</div>'\n",
    "        for klass\n",
    "        in list(klass_to_color.keys())\n",
    "    ])\n",
    "))"
   ]
  },
  {
   "cell_type": "code",
   "execution_count": 19,
   "metadata": {},
   "outputs": [],
   "source": [
    "misconduct_for_csv = unindicated_misconduct.copy()\n",
    "misconduct_for_csv['year'] = misconduct_for_csv['date'].apply(lambda d : str(d.year))\n",
    "export_cols = [\n",
    "    'instance',\n",
    "    'year',\n",
    "    'contractor_s',\n",
    "    'misconduct_type',\n",
    "    'court_type',\n",
    "    'enforcement_agency',\n",
    "    'contracting_party',\n",
    "    'disposition_type'\n",
    "]\n",
    "\n",
    "for col in export_cols:\n",
    "    misconduct_for_csv[col] = misconduct_for_csv[col].str.replace(',', '').str.slice(0, 50)\n",
    "\n",
    "labeled_reduced = np.concatenate(\n",
    "    (\n",
    "        reduced,\n",
    "        misconduct_for_csv[export_cols]\n",
    "    ),\n",
    "    axis=1\n",
    ")"
   ]
  },
  {
   "cell_type": "code",
   "execution_count": 20,
   "metadata": {},
   "outputs": [],
   "source": [
    "np.savetxt(\n",
    "    'TSNE.csv',\n",
    "    labeled_reduced,\n",
    "    delimiter=',',\n",
    "    fmt='%.18e,%.18e,%s,%s,%s,%s,%s,%s,%s,%s'\n",
    ")"
   ]
  },
  {
   "cell_type": "code",
   "execution_count": null,
   "metadata": {},
   "outputs": [],
   "source": [
    "fig = plt.figure(figsize=(18, 18))\n",
    "plt.scatter(\n",
    "    reduced[:, 0],\n",
    "    reduced[:, 1],\n",
    "    c=[\n",
    "        klass_to_color[klass]\n",
    "        for klass\n",
    "        in misconduct['disposition_type']\n",
    "    ]\n",
    ")\n",
    "plt.savefig('TSNE.jpg')\n",
    "image = Image.open('TSNE.jpg')\n",
    "inverted_image = PIL.ImageOps.invert(image)\n",
    "inverted_image.save('TSNE.jpg')"
   ]
  },
  {
   "cell_type": "code",
   "execution_count": null,
   "metadata": {},
   "outputs": [],
   "source": []
  }
 ],
 "metadata": {
  "kernelspec": {
   "display_name": "Python 3",
   "language": "python",
   "name": "python3"
  },
  "language_info": {
   "codemirror_mode": {
    "name": "ipython",
    "version": 3
   },
   "file_extension": ".py",
   "mimetype": "text/x-python",
   "name": "python",
   "nbconvert_exporter": "python",
   "pygments_lexer": "ipython3",
   "version": "3.7.0"
  }
 },
 "nbformat": 4,
 "nbformat_minor": 2
}
