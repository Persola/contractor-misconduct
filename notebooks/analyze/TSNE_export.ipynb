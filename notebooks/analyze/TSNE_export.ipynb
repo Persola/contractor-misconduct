{
 "cells": [
  {
   "cell_type": "code",
   "execution_count": 1,
   "metadata": {},
   "outputs": [],
   "source": [
    "import re\n",
    "\n",
    "from IPython.core.display import display, HTML\n",
    "\n",
    "import pickle\n",
    "import numpy as np\n",
    "import pandas as pd\n",
    "from sklearn.manifold import TSNE\n",
    "import matplotlib.pyplot as plt\n",
    "from PIL import Image\n",
    "import PIL.ImageOps"
   ]
  },
  {
   "cell_type": "code",
   "execution_count": 2,
   "metadata": {},
   "outputs": [],
   "source": [
    "with open('../../data/clean/misconduct_train.pkl', 'rb') as train_file:\n",
    "    unindicated_misconduct = pickle.load(train_file)\n",
    "\n",
    "with open('../../data/clean/misconduct_indicators_train.pkl', 'rb') as train_file:\n",
    "    misconduct = pickle.load(train_file)"
   ]
  },
  {
   "cell_type": "code",
   "execution_count": 3,
   "metadata": {},
   "outputs": [],
   "source": [
    "indicated_cols = [\n",
    "    'misconduct_type',\n",
    "    'court_type',\n",
    "    'enforcement_agency',\n",
    "    'contracting_party'\n",
    "]\n",
    "\n",
    " # the one hot columns start with the indicated_col's name\n",
    "indicator_features = [\n",
    "    col for col in misconduct.columns\n",
    "    if re.search(f'^({\"|\".join(indicated_cols)})_', col)\n",
    "]\n",
    "\n",
    "design_matrix = misconduct[[*indicator_features]]\n",
    "# design_matrix = pd.concat(\n",
    "#     [\n",
    "#         design_matrix,\n",
    "#         pd.get_dummies(\n",
    "#             misconduct['disposition_type'],\n",
    "#             prefix='disposition_type'\n",
    "#         )\n",
    "#     ],\n",
    "#     axis=1\n",
    "# )"
   ]
  },
  {
   "cell_type": "code",
   "execution_count": 4,
   "metadata": {},
   "outputs": [],
   "source": [
    "reduced = TSNE(n_components=2).fit_transform(design_matrix)"
   ]
  },
  {
   "cell_type": "code",
   "execution_count": 5,
   "metadata": {},
   "outputs": [],
   "source": [
    "misconduct_for_csv = unindicated_misconduct.copy()\n",
    "misconduct_for_csv['year'] = misconduct_for_csv['date'].apply(lambda d : str(d.year))\n",
    "export_cols = [\n",
    "    'instance',\n",
    "    'year',\n",
    "    'contractor_s',\n",
    "    'misconduct_type',\n",
    "    'court_type',\n",
    "    'enforcement_agency',\n",
    "    'contracting_party',\n",
    "    'disposition_type'\n",
    "]\n",
    "\n",
    "for col in export_cols:\n",
    "    misconduct_for_csv[col] = misconduct_for_csv[col].str.replace(',', '').str.slice(0, 50)\n",
    "\n",
    "labeled_reduced = np.concatenate(\n",
    "    (\n",
    "        reduced,\n",
    "        misconduct_for_csv[export_cols]\n",
    "    ),\n",
    "    axis=1\n",
    ")"
   ]
  },
  {
   "cell_type": "code",
   "execution_count": 6,
   "metadata": {},
   "outputs": [],
   "source": [
    "# export to Tableau\n",
    "# hosted at https://public.tableau.com/profile/luke.persola#!/vizhome/misconduct_3/MisconductTSNE\n",
    "\n",
    "np.savetxt(\n",
    "    'TSNE.csv',\n",
    "    labeled_reduced,\n",
    "    delimiter=',',\n",
    "    fmt='%.18e,%.18e,%s,%s,%s,%s,%s,%s,%s,%s'\n",
    ")"
   ]
  },
  {
   "cell_type": "code",
   "execution_count": null,
   "metadata": {},
   "outputs": [],
   "source": []
  }
 ],
 "metadata": {
  "kernelspec": {
   "display_name": "Python 3",
   "language": "python",
   "name": "python3"
  },
  "language_info": {
   "codemirror_mode": {
    "name": "ipython",
    "version": 3
   },
   "file_extension": ".py",
   "mimetype": "text/x-python",
   "name": "python",
   "nbconvert_exporter": "python",
   "pygments_lexer": "ipython3",
   "version": "3.7.0"
  }
 },
 "nbformat": 4,
 "nbformat_minor": 2
}
