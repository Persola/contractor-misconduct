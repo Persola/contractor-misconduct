{
 "cells": [
  {
   "cell_type": "code",
   "execution_count": 1,
   "metadata": {},
   "outputs": [],
   "source": [
    "import numpy as np\n",
    "import pandas as pd\n",
    "import seaborn as sns"
   ]
  },
  {
   "cell_type": "code",
   "execution_count": 2,
   "metadata": {
    "scrolled": true
   },
   "outputs": [],
   "source": [
    "def categorrelations(data_frame, cols_for_x, cols_for_y):\n",
    "    cors = pd.DataFrame(\n",
    "        np.zeros((len(cols_for_y), len(cols_for_x))) + 10 # absurd seed\n",
    "    )\n",
    "\n",
    "    for y_ind, y_col in enumerate(cols_for_y):\n",
    "        for x_ind, x_col in enumerate(cols_for_x):\n",
    "            cors[x_ind][y_ind] = data_frame[y_col].corr(data_frame[x_col])\n",
    "\n",
    "    cors.index = cols_for_y\n",
    "    cors.columns = cols_for_x\n",
    "\n",
    "    sns.heatmap(\n",
    "        cors,\n",
    "        vmin=-1,\n",
    "        vmax=1,\n",
    "        cmap=\"PiYG\",\n",
    "        annot=True\n",
    "    );"
   ]
  },
  {
   "cell_type": "code",
   "execution_count": 3,
   "metadata": {},
   "outputs": [
    {
     "data": {
      "image/png": "[encoded data removed]",
      "text/plain": [
       "<Figure size 432x288 with 2 Axes>"
      ]
     },
     "metadata": {
      "needs_background": "light"
     },
     "output_type": "display_data"
    }
   ],
   "source": [
    "# example usage\n",
    "\n",
    "people = pd.DataFrame(\n",
    "    [\n",
    "        [1, 0, 0, 1, 1, 0],\n",
    "        [1, 1, 0, 1, 1, 1],\n",
    "        [0, 0, 1, 1, 0, 1],\n",
    "        [0, 1, 0, 0, 0, 1],\n",
    "        [0, 0, 0, 0, 0, 0]\n",
    "    ]\n",
    ")\n",
    "\n",
    "people.columns = [\n",
    "    'is_child',\n",
    "    'is_missing_fingers',\n",
    "    '90s_hacker',\n",
    "    'clumbsy',\n",
    "    'types_slow',\n",
    "    'has_special_gloves'\n",
    "]\n",
    "people.index = [\n",
    "    'Meredith',\n",
    "    'Keenan',\n",
    "    'zhyPH3R',\n",
    "    'Uncle Kurt',\n",
    "    'Obama'\n",
    "]\n",
    "\n",
    "categorrelations(\n",
    "    people,\n",
    "    cols_for_x=['is_child', 'is_missing_fingers', '90s_hacker'],\n",
    "    cols_for_y=['clumbsy', 'types_slow', 'has_special_gloves']\n",
    ")"
   ]
  },
  {
   "cell_type": "code",
   "execution_count": null,
   "metadata": {},
   "outputs": [],
   "source": []
  }
 ],
 "metadata": {
  "kernelspec": {
   "display_name": "Python 3",
   "language": "python",
   "name": "python3"
  },
  "language_info": {
   "codemirror_mode": {
    "name": "ipython",
    "version": 3
   },
   "file_extension": ".py",
   "mimetype": "text/x-python",
   "name": "python",
   "nbconvert_exporter": "python",
   "pygments_lexer": "ipython3",
   "version": "3.7.0"
  }
 },
 "nbformat": 4,
 "nbformat_minor": 2
}
